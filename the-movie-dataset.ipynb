{
 "cells": [
  {
   "cell_type": "code",
   "execution_count": 1,
   "id": "d9758fda",
   "metadata": {
    "_cell_guid": "b1076dfc-b9ad-4769-8c92-a6c4dae69d19",
    "_uuid": "8f2839f25d086af736a60e9eeb907d3b93b6e0e5",
    "execution": {
     "iopub.execute_input": "2024-01-02T14:51:02.958420Z",
     "iopub.status.busy": "2024-01-02T14:51:02.957990Z",
     "iopub.status.idle": "2024-01-02T14:51:03.423824Z",
     "shell.execute_reply": "2024-01-02T14:51:03.422559Z"
    },
    "papermill": {
     "duration": 0.481822,
     "end_time": "2024-01-02T14:51:03.426806",
     "exception": false,
     "start_time": "2024-01-02T14:51:02.944984",
     "status": "completed"
    },
    "tags": []
   },
   "outputs": [
    {
     "name": "stdout",
     "output_type": "stream",
     "text": [
      "/kaggle/input/the-movies-dataset/ratings.csv\n",
      "/kaggle/input/the-movies-dataset/links_small.csv\n",
      "/kaggle/input/the-movies-dataset/credits.csv\n",
      "/kaggle/input/the-movies-dataset/keywords.csv\n",
      "/kaggle/input/the-movies-dataset/movies_metadata.csv\n",
      "/kaggle/input/the-movies-dataset/ratings_small.csv\n",
      "/kaggle/input/the-movies-dataset/links.csv\n"
     ]
    }
   ],
   "source": [
    "# This Python 3 environment comes with many helpful analytics libraries installed\n",
    "# It is defined by the kaggle/python Docker image: https://github.com/kaggle/docker-python\n",
    "# For example, here's several helpful packages to load\n",
    "\n",
    "import numpy as np # linear algebra\n",
    "import pandas as pd # data processing, CSV file I/O (e.g. pd.read_csv)\n",
    "\n",
    "# Input data files are available in the read-only \"../input/\" directory\n",
    "# For example, running this (by clicking run or pressing Shift+Enter) will list all files under the input directory\n",
    "\n",
    "import os\n",
    "for dirname, _, filenames in os.walk('/kaggle/input'):\n",
    "    for filename in filenames:\n",
    "        print(os.path.join(dirname, filename))\n",
    "\n",
    "# You can write up to 20GB to the current directory (/kaggle/working/) that gets preserved as output when you create a version using \"Save & Run All\" \n",
    "# You can also write temporary files to /kaggle/temp/, but they won't be saved outside of the current session"
   ]
  },
  {
   "cell_type": "code",
   "execution_count": 2,
   "id": "cea66ff3",
   "metadata": {
    "execution": {
     "iopub.execute_input": "2024-01-02T14:51:03.448529Z",
     "iopub.status.busy": "2024-01-02T14:51:03.447858Z",
     "iopub.status.idle": "2024-01-02T14:51:07.407352Z",
     "shell.execute_reply": "2024-01-02T14:51:07.405939Z"
    },
    "papermill": {
     "duration": 3.973975,
     "end_time": "2024-01-02T14:51:07.410535",
     "exception": false,
     "start_time": "2024-01-02T14:51:03.436560",
     "status": "completed"
    },
    "tags": []
   },
   "outputs": [],
   "source": [
    "import pandas as pd\n",
    "import numpy as np\n",
    "import matplotlib.pyplot as plt\n",
    "import seaborn as sns\n",
    "from sklearn.cluster import KMeans\n",
    "from sklearn.decomposition import PCA\n",
    "from sklearn.preprocessing import StandardScaler\n",
    "import ast\n",
    "\n",
    "# Kaggle directory\n",
    "dir = '/kaggle/input/the-movies-dataset/'\n",
    "\n",
    "# Load datasets\n",
    "ratings = pd.read_csv(dir + 'ratings_small.csv')\n",
    "metadata = pd.read_csv(dir + 'movies_metadata.csv', low_memory=False)\n",
    "from wordcloud import WordCloud, STOPWORDS"
   ]
  },
  {
   "cell_type": "code",
   "execution_count": 3,
   "id": "ed2a1729",
   "metadata": {
    "execution": {
     "iopub.execute_input": "2024-01-02T14:51:07.431809Z",
     "iopub.status.busy": "2024-01-02T14:51:07.431297Z",
     "iopub.status.idle": "2024-01-02T14:51:07.437636Z",
     "shell.execute_reply": "2024-01-02T14:51:07.436332Z"
    },
    "papermill": {
     "duration": 0.019848,
     "end_time": "2024-01-02T14:51:07.439988",
     "exception": false,
     "start_time": "2024-01-02T14:51:07.420140",
     "status": "completed"
    },
    "tags": []
   },
   "outputs": [],
   "source": [
    "# Setup option\n",
    "pd.set_option('display.max_columns', 100)\n",
    "pd.set_option('display.max_rows', 100)\n",
    "pd.set_option('display.float_format', lambda x: f'{x:,.3f}') "
   ]
  },
  {
   "cell_type": "code",
   "execution_count": 4,
   "id": "a603c621",
   "metadata": {
    "execution": {
     "iopub.execute_input": "2024-01-02T14:51:07.461616Z",
     "iopub.status.busy": "2024-01-02T14:51:07.461100Z",
     "iopub.status.idle": "2024-01-02T14:51:13.617542Z",
     "shell.execute_reply": "2024-01-02T14:51:13.616166Z"
    },
    "papermill": {
     "duration": 6.171298,
     "end_time": "2024-01-02T14:51:13.620845",
     "exception": false,
     "start_time": "2024-01-02T14:51:07.449547",
     "status": "completed"
    },
    "tags": []
   },
   "outputs": [],
   "source": [
    "# Create DateFrames\n",
    "keywords_df = pd.read_csv(\"/kaggle/input/the-movies-dataset/keywords.csv\")\n",
    "credits_df = pd.read_csv(\"/kaggle/input/the-movies-dataset/credits.csv\")\n",
    "movies_df = pd.read_csv(\"/kaggle/input/the-movies-dataset/movies_metadata.csv\", low_memory=False)"
   ]
  },
  {
   "cell_type": "code",
   "execution_count": 5,
   "id": "7f10f546",
   "metadata": {
    "execution": {
     "iopub.execute_input": "2024-01-02T14:51:13.642803Z",
     "iopub.status.busy": "2024-01-02T14:51:13.641404Z",
     "iopub.status.idle": "2024-01-02T14:51:13.665193Z",
     "shell.execute_reply": "2024-01-02T14:51:13.664055Z"
    },
    "papermill": {
     "duration": 0.038036,
     "end_time": "2024-01-02T14:51:13.668473",
     "exception": false,
     "start_time": "2024-01-02T14:51:13.630437",
     "status": "completed"
    },
    "tags": []
   },
   "outputs": [
    {
     "data": {
      "text/html": [
       "<div>\n",
       "<style scoped>\n",
       "    .dataframe tbody tr th:only-of-type {\n",
       "        vertical-align: middle;\n",
       "    }\n",
       "\n",
       "    .dataframe tbody tr th {\n",
       "        vertical-align: top;\n",
       "    }\n",
       "\n",
       "    .dataframe thead th {\n",
       "        text-align: right;\n",
       "    }\n",
       "</style>\n",
       "<table border=\"1\" class=\"dataframe\">\n",
       "  <thead>\n",
       "    <tr style=\"text-align: right;\">\n",
       "      <th></th>\n",
       "      <th>id</th>\n",
       "      <th>keywords</th>\n",
       "    </tr>\n",
       "  </thead>\n",
       "  <tbody>\n",
       "    <tr>\n",
       "      <th>0</th>\n",
       "      <td>862</td>\n",
       "      <td>[{'id': 931, 'name': 'jealousy'}, {'id': 4290,...</td>\n",
       "    </tr>\n",
       "    <tr>\n",
       "      <th>1</th>\n",
       "      <td>8844</td>\n",
       "      <td>[{'id': 10090, 'name': 'board game'}, {'id': 1...</td>\n",
       "    </tr>\n",
       "    <tr>\n",
       "      <th>2</th>\n",
       "      <td>15602</td>\n",
       "      <td>[{'id': 1495, 'name': 'fishing'}, {'id': 12392...</td>\n",
       "    </tr>\n",
       "    <tr>\n",
       "      <th>3</th>\n",
       "      <td>31357</td>\n",
       "      <td>[{'id': 818, 'name': 'based on novel'}, {'id':...</td>\n",
       "    </tr>\n",
       "    <tr>\n",
       "      <th>4</th>\n",
       "      <td>11862</td>\n",
       "      <td>[{'id': 1009, 'name': 'baby'}, {'id': 1599, 'n...</td>\n",
       "    </tr>\n",
       "  </tbody>\n",
       "</table>\n",
       "</div>"
      ],
      "text/plain": [
       "      id                                           keywords\n",
       "0    862  [{'id': 931, 'name': 'jealousy'}, {'id': 4290,...\n",
       "1   8844  [{'id': 10090, 'name': 'board game'}, {'id': 1...\n",
       "2  15602  [{'id': 1495, 'name': 'fishing'}, {'id': 12392...\n",
       "3  31357  [{'id': 818, 'name': 'based on novel'}, {'id':...\n",
       "4  11862  [{'id': 1009, 'name': 'baby'}, {'id': 1599, 'n..."
      ]
     },
     "execution_count": 5,
     "metadata": {},
     "output_type": "execute_result"
    }
   ],
   "source": [
    "keywords_df.head(5)"
   ]
  },
  {
   "cell_type": "code",
   "execution_count": 6,
   "id": "73e9d589",
   "metadata": {
    "execution": {
     "iopub.execute_input": "2024-01-02T14:51:13.691085Z",
     "iopub.status.busy": "2024-01-02T14:51:13.690213Z",
     "iopub.status.idle": "2024-01-02T14:51:13.730342Z",
     "shell.execute_reply": "2024-01-02T14:51:13.729182Z"
    },
    "papermill": {
     "duration": 0.054657,
     "end_time": "2024-01-02T14:51:13.733200",
     "exception": false,
     "start_time": "2024-01-02T14:51:13.678543",
     "status": "completed"
    },
    "tags": []
   },
   "outputs": [
    {
     "data": {
      "text/html": [
       "<div>\n",
       "<style scoped>\n",
       "    .dataframe tbody tr th:only-of-type {\n",
       "        vertical-align: middle;\n",
       "    }\n",
       "\n",
       "    .dataframe tbody tr th {\n",
       "        vertical-align: top;\n",
       "    }\n",
       "\n",
       "    .dataframe thead th {\n",
       "        text-align: right;\n",
       "    }\n",
       "</style>\n",
       "<table border=\"1\" class=\"dataframe\">\n",
       "  <thead>\n",
       "    <tr style=\"text-align: right;\">\n",
       "      <th></th>\n",
       "      <th>revenue</th>\n",
       "      <th>runtime</th>\n",
       "      <th>vote_average</th>\n",
       "      <th>vote_count</th>\n",
       "    </tr>\n",
       "  </thead>\n",
       "  <tbody>\n",
       "    <tr>\n",
       "      <th>count</th>\n",
       "      <td>45,460.000</td>\n",
       "      <td>45,203.000</td>\n",
       "      <td>45,460.000</td>\n",
       "      <td>45,460.000</td>\n",
       "    </tr>\n",
       "    <tr>\n",
       "      <th>mean</th>\n",
       "      <td>11,209,348.539</td>\n",
       "      <td>94.128</td>\n",
       "      <td>5.618</td>\n",
       "      <td>109.897</td>\n",
       "    </tr>\n",
       "    <tr>\n",
       "      <th>std</th>\n",
       "      <td>64,332,246.741</td>\n",
       "      <td>38.408</td>\n",
       "      <td>1.924</td>\n",
       "      <td>491.310</td>\n",
       "    </tr>\n",
       "    <tr>\n",
       "      <th>min</th>\n",
       "      <td>0.000</td>\n",
       "      <td>0.000</td>\n",
       "      <td>0.000</td>\n",
       "      <td>0.000</td>\n",
       "    </tr>\n",
       "    <tr>\n",
       "      <th>25%</th>\n",
       "      <td>0.000</td>\n",
       "      <td>85.000</td>\n",
       "      <td>5.000</td>\n",
       "      <td>3.000</td>\n",
       "    </tr>\n",
       "    <tr>\n",
       "      <th>50%</th>\n",
       "      <td>0.000</td>\n",
       "      <td>95.000</td>\n",
       "      <td>6.000</td>\n",
       "      <td>10.000</td>\n",
       "    </tr>\n",
       "    <tr>\n",
       "      <th>75%</th>\n",
       "      <td>0.000</td>\n",
       "      <td>107.000</td>\n",
       "      <td>6.800</td>\n",
       "      <td>34.000</td>\n",
       "    </tr>\n",
       "    <tr>\n",
       "      <th>max</th>\n",
       "      <td>2,787,965,087.000</td>\n",
       "      <td>1,256.000</td>\n",
       "      <td>10.000</td>\n",
       "      <td>14,075.000</td>\n",
       "    </tr>\n",
       "  </tbody>\n",
       "</table>\n",
       "</div>"
      ],
      "text/plain": [
       "                revenue    runtime  vote_average  vote_count\n",
       "count        45,460.000 45,203.000    45,460.000  45,460.000\n",
       "mean     11,209,348.539     94.128         5.618     109.897\n",
       "std      64,332,246.741     38.408         1.924     491.310\n",
       "min               0.000      0.000         0.000       0.000\n",
       "25%               0.000     85.000         5.000       3.000\n",
       "50%               0.000     95.000         6.000      10.000\n",
       "75%               0.000    107.000         6.800      34.000\n",
       "max   2,787,965,087.000  1,256.000        10.000  14,075.000"
      ]
     },
     "execution_count": 6,
     "metadata": {},
     "output_type": "execute_result"
    }
   ],
   "source": [
    "movies_df.describe()"
   ]
  },
  {
   "cell_type": "code",
   "execution_count": 7,
   "id": "a464be53",
   "metadata": {
    "execution": {
     "iopub.execute_input": "2024-01-02T14:51:13.755843Z",
     "iopub.status.busy": "2024-01-02T14:51:13.754971Z",
     "iopub.status.idle": "2024-01-02T14:51:13.929180Z",
     "shell.execute_reply": "2024-01-02T14:51:13.928023Z"
    },
    "papermill": {
     "duration": 0.188978,
     "end_time": "2024-01-02T14:51:13.932020",
     "exception": false,
     "start_time": "2024-01-02T14:51:13.743042",
     "status": "completed"
    },
    "tags": []
   },
   "outputs": [
    {
     "data": {
      "text/plain": [
       "Index(['userId', 'movieId', 'rating', 'timestamp', 'adult',\n",
       "       'belongs_to_collection', 'budget', 'genres', 'homepage', 'imdb_id',\n",
       "       'original_language', 'original_title', 'overview', 'popularity',\n",
       "       'poster_path', 'production_companies', 'production_countries',\n",
       "       'release_date', 'revenue', 'runtime', 'spoken_languages', 'status',\n",
       "       'tagline', 'title', 'video', 'vote_average', 'vote_count'],\n",
       "      dtype='object')"
      ]
     },
     "execution_count": 7,
     "metadata": {},
     "output_type": "execute_result"
    }
   ],
   "source": [
    "metadata = metadata.rename(columns={'id': 'movieId'})\n",
    "metadata['movieId'] = pd.to_numeric(metadata['movieId'], errors='coerce')\n",
    "\n",
    "# Merge the two DataFrames on the 'movieId' column\n",
    "combined_data = pd.merge(ratings, metadata, on='movieId')\n",
    "\n",
    "# Filter users who have rated 20 or more movies\n",
    "user_rating_counts = combined_data.groupby('userId')['rating'].count()\n",
    "active_users = user_rating_counts[user_rating_counts >= 20].index\n",
    "\n",
    "df = combined_data[combined_data['userId'].isin(active_users)]\n",
    "df.columns"
   ]
  },
  {
   "cell_type": "code",
   "execution_count": 8,
   "id": "9be83753",
   "metadata": {
    "execution": {
     "iopub.execute_input": "2024-01-02T14:51:13.955911Z",
     "iopub.status.busy": "2024-01-02T14:51:13.955082Z",
     "iopub.status.idle": "2024-01-02T14:51:14.016490Z",
     "shell.execute_reply": "2024-01-02T14:51:14.015553Z"
    },
    "papermill": {
     "duration": 0.077349,
     "end_time": "2024-01-02T14:51:14.019238",
     "exception": false,
     "start_time": "2024-01-02T14:51:13.941889",
     "status": "completed"
    },
    "tags": []
   },
   "outputs": [
    {
     "name": "stdout",
     "output_type": "stream",
     "text": [
      "There are 32 duplicates in the 'id'.\n"
     ]
    }
   ],
   "source": [
    "movies_df['id'] = pd.to_numeric(movies_df['id'], errors='coerce')\n",
    "movies_df['id'] = movies_df['id'].fillna(0).astype('int64')\n",
    "\n",
    "# Check for duplicates in movies_df['id']\n",
    "print(f\"There are {movies_df.duplicated('id').sum()} duplicates in the 'id'.\")\n",
    "\n",
    "# Set index to 'id' and remove 'imdb_id'\n",
    "movies_df.set_index('id', inplace=True)\n",
    "movies_df.drop('imdb_id', axis=1, inplace=True)"
   ]
  },
  {
   "cell_type": "code",
   "execution_count": 9,
   "id": "44c22292",
   "metadata": {
    "execution": {
     "iopub.execute_input": "2024-01-02T14:51:14.041436Z",
     "iopub.status.busy": "2024-01-02T14:51:14.040960Z",
     "iopub.status.idle": "2024-01-02T14:51:14.077904Z",
     "shell.execute_reply": "2024-01-02T14:51:14.076421Z"
    },
    "papermill": {
     "duration": 0.051656,
     "end_time": "2024-01-02T14:51:14.080828",
     "exception": false,
     "start_time": "2024-01-02T14:51:14.029172",
     "status": "completed"
    },
    "tags": []
   },
   "outputs": [
    {
     "name": "stdout",
     "output_type": "stream",
     "text": [
      "There were 44 duplicates in the variable credits['id'].\n",
      "Now, there is 0 duplicates in the variable credits['id'].\n",
      "There were 987 duplicates in the variable keywords['id'].\n",
      "Now, there is 0 duplicates in the variable keywords['id'].\n"
     ]
    }
   ],
   "source": [
    "credits_df[credits_df.duplicated('id', keep=False)]\n",
    "print(f\"There were {credits_df.duplicated('id').sum()} duplicates in the variable credits['id'].\")\n",
    "credits_df.drop_duplicates('id', inplace=True)\n",
    "print(f\"Now, there is {credits_df.duplicated('id').sum()} duplicates in the variable credits['id'].\")\n",
    "\n",
    "keywords_df[keywords_df.duplicated('id', keep=False)]\n",
    "print(f\"There were {keywords_df.duplicated('id').sum()} duplicates in the variable keywords['id'].\")\n",
    "keywords_df.drop_duplicates('id', inplace=True)\n",
    "print(f\"Now, there is {keywords_df.duplicated('id').sum()} duplicates in the variable keywords['id'].\")"
   ]
  },
  {
   "cell_type": "code",
   "execution_count": 10,
   "id": "d180ff1f",
   "metadata": {
    "execution": {
     "iopub.execute_input": "2024-01-02T14:51:14.104063Z",
     "iopub.status.busy": "2024-01-02T14:51:14.103105Z",
     "iopub.status.idle": "2024-01-02T14:51:56.441511Z",
     "shell.execute_reply": "2024-01-02T14:51:56.440323Z"
    },
    "papermill": {
     "duration": 42.353597,
     "end_time": "2024-01-02T14:51:56.444999",
     "exception": false,
     "start_time": "2024-01-02T14:51:14.091402",
     "status": "completed"
    },
    "tags": []
   },
   "outputs": [],
   "source": [
    "def get_name(x):\n",
    "    return [i['name'] for i in x]\n",
    "\n",
    "def select_first_5_values(x):\n",
    "    return x[:5]\n",
    "\n",
    "credits_df['main_actors'] = credits_df['cast'].apply(ast.literal_eval).apply(get_name).apply(select_first_5_values)\n",
    "\n",
    "def get_director(x):\n",
    "    for i in x:\n",
    "        if i['job'] == 'Director':\n",
    "            return i['name']\n",
    "    return np.nan\n",
    "\n",
    "credits_df['director'] = credits_df['crew'].apply(ast.literal_eval).apply(get_director)"
   ]
  },
  {
   "cell_type": "code",
   "execution_count": 11,
   "id": "aa728b9d",
   "metadata": {
    "execution": {
     "iopub.execute_input": "2024-01-02T14:51:56.468177Z",
     "iopub.status.busy": "2024-01-02T14:51:56.467698Z",
     "iopub.status.idle": "2024-01-02T14:51:57.152847Z",
     "shell.execute_reply": "2024-01-02T14:51:57.151309Z"
    },
    "papermill": {
     "duration": 0.699944,
     "end_time": "2024-01-02T14:51:57.155751",
     "exception": false,
     "start_time": "2024-01-02T14:51:56.455807",
     "status": "completed"
    },
    "tags": []
   },
   "outputs": [
    {
     "name": "stdout",
     "output_type": "stream",
     "text": [
      "                 belongs_to_collection\n",
      "id                                    \n",
      "862               Toy Story Collection\n",
      "15602        Grumpy Old Men Collection\n",
      "11862   Father of the Bride Collection\n",
      "710              James Bond Collection\n",
      "21032                 Balto Collection\n",
      "...                                ...\n",
      "24568          The Carry On Collection\n",
      "19307          The Carry On Collection\n",
      "21251          The Carry On Collection\n",
      "460135  DC Super Hero Girls Collection\n",
      "182030            Red Lotus Collection\n",
      "\n",
      "[4491 rows x 1 columns]\n"
     ]
    }
   ],
   "source": [
    "collection_df = movies_df.copy()\n",
    "collection_df.reset_index(inplace=True)\n",
    "collection_df = collection_df[['id', 'belongs_to_collection']].set_index('id')\n",
    "collection_df['belongs_to_collection'] = collection_df['belongs_to_collection'].fillna(\"[]\") \\\n",
    "    .apply(ast.literal_eval).apply(lambda x: x['name'] if isinstance(x, dict) else np.nan)\n",
    "collection_df = collection_df.dropna()\n",
    "\n",
    "print(collection_df)"
   ]
  },
  {
   "cell_type": "code",
   "execution_count": 12,
   "id": "bfe71d8d",
   "metadata": {
    "execution": {
     "iopub.execute_input": "2024-01-02T14:51:57.179066Z",
     "iopub.status.busy": "2024-01-02T14:51:57.178160Z",
     "iopub.status.idle": "2024-01-02T14:51:57.186767Z",
     "shell.execute_reply": "2024-01-02T14:51:57.185761Z"
    },
    "papermill": {
     "duration": 0.022823,
     "end_time": "2024-01-02T14:51:57.188986",
     "exception": false,
     "start_time": "2024-01-02T14:51:57.166163",
     "status": "completed"
    },
    "tags": []
   },
   "outputs": [
    {
     "data": {
      "text/plain": [
       "adult                     object\n",
       "belongs_to_collection     object\n",
       "budget                    object\n",
       "genres                    object\n",
       "homepage                  object\n",
       "original_language         object\n",
       "original_title            object\n",
       "overview                  object\n",
       "popularity                object\n",
       "poster_path               object\n",
       "production_companies      object\n",
       "production_countries      object\n",
       "release_date              object\n",
       "revenue                  float64\n",
       "runtime                  float64\n",
       "spoken_languages          object\n",
       "status                    object\n",
       "tagline                   object\n",
       "title                     object\n",
       "video                     object\n",
       "vote_average             float64\n",
       "vote_count               float64\n",
       "dtype: object"
      ]
     },
     "execution_count": 12,
     "metadata": {},
     "output_type": "execute_result"
    }
   ],
   "source": [
    "movies_df.dtypes"
   ]
  },
  {
   "cell_type": "code",
   "execution_count": 13,
   "id": "47acb128",
   "metadata": {
    "execution": {
     "iopub.execute_input": "2024-01-02T14:51:57.212392Z",
     "iopub.status.busy": "2024-01-02T14:51:57.211697Z",
     "iopub.status.idle": "2024-01-02T14:51:58.049075Z",
     "shell.execute_reply": "2024-01-02T14:51:58.047221Z"
    },
    "papermill": {
     "duration": 0.852327,
     "end_time": "2024-01-02T14:51:58.051886",
     "exception": false,
     "start_time": "2024-01-02T14:51:57.199559",
     "status": "completed"
    },
    "tags": []
   },
   "outputs": [
    {
     "data": {
      "image/png": "[encoded data removed]",
      "text/plain": [
       "<Figure size 1000x500 with 1 Axes>"
      ]
     },
     "metadata": {},
     "output_type": "display_data"
    }
   ],
   "source": [
    "import json\n",
    "import numpy as np\n",
    "import matplotlib.pyplot as plt\n",
    "import seaborn as sns\n",
    "from datetime import datetime\n",
    "# Convert 'release_date' to datetime format\n",
    "combined_data['release_date'] = pd.to_datetime(combined_data['release_date'], errors='coerce')\n",
    "\n",
    "# Convert 'genres' from JSON format to a list of genres\n",
    "def parse_genres(genres_str):\n",
    "    genres = json.loads(genres_str.replace(\"'\", \"\\\"\"))\n",
    "    genres_list = [g['name'] for g in genres]\n",
    "    return genres_list\n",
    "\n",
    "combined_data['genres'] = combined_data['genres'].apply(parse_genres)\n",
    "\n",
    "# Extract year from 'release_date' and create 'release_year' column\n",
    "combined_data['release_year'] = combined_data['release_date'].dt.year\n",
    "\n",
    "# Plot distribution of ratings\n",
    "plt.figure(figsize=(10, 5))\n",
    "sns.histplot(combined_data['rating'], bins=20, kde=False)\n",
    "plt.title('Distribution of Ratings')\n",
    "plt.xlabel('Rating')\n",
    "plt.ylabel('Count')\n",
    "plt.show()"
   ]
  },
  {
   "cell_type": "code",
   "execution_count": 14,
   "id": "4e982723",
   "metadata": {
    "execution": {
     "iopub.execute_input": "2024-01-02T14:51:58.077529Z",
     "iopub.status.busy": "2024-01-02T14:51:58.077040Z",
     "iopub.status.idle": "2024-01-02T14:51:58.620372Z",
     "shell.execute_reply": "2024-01-02T14:51:58.618882Z"
    },
    "papermill": {
     "duration": 0.560108,
     "end_time": "2024-01-02T14:51:58.623378",
     "exception": false,
     "start_time": "2024-01-02T14:51:58.063270",
     "status": "completed"
    },
    "tags": []
   },
   "outputs": [
    {
     "data": {
      "image/png": "[encoded data removed]",
      "text/plain": [
       "<Figure size 1000x500 with 1 Axes>"
      ]
     },
     "metadata": {},
     "output_type": "display_data"
    }
   ],
   "source": [
    "#distribution of movie release years\n",
    "plt.figure(figsize=(10, 5))\n",
    "sns.histplot(combined_data['release_year'], bins=np.arange(1900, 2023, 1))\n",
    "plt.title('Distribution of Movie Release Years')\n",
    "plt.xlabel('Release Year')\n",
    "plt.ylabel('Count')\n",
    "plt.show()"
   ]
  },
  {
   "cell_type": "code",
   "execution_count": 15,
   "id": "3e651bdf",
   "metadata": {
    "execution": {
     "iopub.execute_input": "2024-01-02T14:51:58.649822Z",
     "iopub.status.busy": "2024-01-02T14:51:58.648715Z",
     "iopub.status.idle": "2024-01-02T14:51:58.854801Z",
     "shell.execute_reply": "2024-01-02T14:51:58.853551Z"
    },
    "papermill": {
     "duration": 0.222817,
     "end_time": "2024-01-02T14:51:58.857904",
     "exception": false,
     "start_time": "2024-01-02T14:51:58.635087",
     "status": "completed"
    },
    "tags": []
   },
   "outputs": [],
   "source": [
    "#number of movies for each genre\n",
    "all_genres = np.concatenate(combined_data['genres'].values)\n",
    "unique_genres, counts = np.unique(all_genres, return_counts=True)\n",
    "genre_counts = pd.DataFrame({'genre': unique_genres, 'count': counts}).sort_values(by='count', ascending=False)"
   ]
  },
  {
   "cell_type": "code",
   "execution_count": 16,
   "id": "dec02d73",
   "metadata": {
    "execution": {
     "iopub.execute_input": "2024-01-02T14:51:58.883664Z",
     "iopub.status.busy": "2024-01-02T14:51:58.883161Z",
     "iopub.status.idle": "2024-01-02T14:51:59.292886Z",
     "shell.execute_reply": "2024-01-02T14:51:59.291949Z"
    },
    "papermill": {
     "duration": 0.425859,
     "end_time": "2024-01-02T14:51:59.295393",
     "exception": false,
     "start_time": "2024-01-02T14:51:58.869534",
     "status": "completed"
    },
    "tags": []
   },
   "outputs": [
    {
     "data": {
      "image/png": "[encoded data removed]",
      "text/plain": [
       "<Figure size 1000x500 with 1 Axes>"
      ]
     },
     "metadata": {},
     "output_type": "display_data"
    }
   ],
   "source": [
    "plt.figure(figsize=(10, 5))\n",
    "sns.barplot(x='genre', y='count', data=genre_counts)\n",
    "plt.title('Distribution of Genres')\n",
    "plt.xlabel('Genre')\n",
    "plt.ylabel('Count')\n",
    "plt.xticks(rotation=90)\n",
    "plt.show()"
   ]
  },
  {
   "cell_type": "code",
   "execution_count": 17,
   "id": "0488f2dd",
   "metadata": {
    "execution": {
     "iopub.execute_input": "2024-01-02T14:51:59.322607Z",
     "iopub.status.busy": "2024-01-02T14:51:59.321867Z",
     "iopub.status.idle": "2024-01-02T14:51:59.840611Z",
     "shell.execute_reply": "2024-01-02T14:51:59.839663Z"
    },
    "papermill": {
     "duration": 0.535045,
     "end_time": "2024-01-02T14:51:59.842945",
     "exception": false,
     "start_time": "2024-01-02T14:51:59.307900",
     "status": "completed"
    },
    "tags": []
   },
   "outputs": [
    {
     "data": {
      "image/png": "[encoded data removed]",
      "text/plain": [
       "<Figure size 1000x500 with 1 Axes>"
      ]
     },
     "metadata": {},
     "output_type": "display_data"
    }
   ],
   "source": [
    "# Plot distribution of languages\n",
    "plt.figure(figsize=(10, 5))\n",
    "sns.countplot(data=combined_data, x='original_language')\n",
    "plt.title('Distribution of Original Language')\n",
    "plt.xlabel('Language')\n",
    "plt.ylabel('Count')\n",
    "plt.xticks(rotation=90)\n",
    "plt.show()"
   ]
  },
  {
   "cell_type": "code",
   "execution_count": 18,
   "id": "fdefcc9b",
   "metadata": {
    "execution": {
     "iopub.execute_input": "2024-01-02T14:51:59.871592Z",
     "iopub.status.busy": "2024-01-02T14:51:59.870829Z",
     "iopub.status.idle": "2024-01-02T14:51:59.949047Z",
     "shell.execute_reply": "2024-01-02T14:51:59.947753Z"
    },
    "papermill": {
     "duration": 0.095798,
     "end_time": "2024-01-02T14:51:59.952064",
     "exception": false,
     "start_time": "2024-01-02T14:51:59.856266",
     "status": "completed"
    },
    "tags": []
   },
   "outputs": [],
   "source": [
    "movies_df = movies_df.sort_index(axis=1)"
   ]
  },
  {
   "cell_type": "code",
   "execution_count": 19,
   "id": "d9c0f1c6",
   "metadata": {
    "execution": {
     "iopub.execute_input": "2024-01-02T14:52:00.073235Z",
     "iopub.status.busy": "2024-01-02T14:52:00.072777Z",
     "iopub.status.idle": "2024-01-02T14:52:00.128295Z",
     "shell.execute_reply": "2024-01-02T14:52:00.126727Z"
    },
    "papermill": {
     "duration": 0.073284,
     "end_time": "2024-01-02T14:52:00.131316",
     "exception": false,
     "start_time": "2024-01-02T14:52:00.058032",
     "status": "completed"
    },
    "tags": []
   },
   "outputs": [
    {
     "data": {
      "text/plain": [
       "belongs_to_collection    40972\n",
       "homepage                 37684\n",
       "tagline                  25054\n",
       "overview                   954\n",
       "poster_path                386\n",
       "runtime                    263\n",
       "status                      87\n",
       "release_date                87\n",
       "original_language           11\n",
       "vote_count                   6\n",
       "vote_average                 6\n",
       "video                        6\n",
       "title                        6\n",
       "revenue                      6\n",
       "spoken_languages             6\n",
       "popularity                   5\n",
       "production_countries         3\n",
       "production_companies         3\n",
       "original_title               0\n",
       "genres                       0\n",
       "budget                       0\n",
       "adult                        0\n",
       "dtype: int64"
      ]
     },
     "execution_count": 19,
     "metadata": {},
     "output_type": "execute_result"
    }
   ],
   "source": [
    "movies_df.isnull().sum().sort_values(ascending=False)"
   ]
  },
  {
   "cell_type": "code",
   "execution_count": 20,
   "id": "64262b94",
   "metadata": {
    "execution": {
     "iopub.execute_input": "2024-01-02T14:52:00.162039Z",
     "iopub.status.busy": "2024-01-02T14:52:00.160801Z",
     "iopub.status.idle": "2024-01-02T14:52:00.168330Z",
     "shell.execute_reply": "2024-01-02T14:52:00.167382Z"
    },
    "papermill": {
     "duration": 0.026376,
     "end_time": "2024-01-02T14:52:00.170789",
     "exception": false,
     "start_time": "2024-01-02T14:52:00.144413",
     "status": "completed"
    },
    "tags": []
   },
   "outputs": [
    {
     "data": {
      "text/plain": [
       "(45466, 22)"
      ]
     },
     "execution_count": 20,
     "metadata": {},
     "output_type": "execute_result"
    }
   ],
   "source": [
    "movies_df.shape"
   ]
  },
  {
   "cell_type": "code",
   "execution_count": 21,
   "id": "28f21d7d",
   "metadata": {
    "execution": {
     "iopub.execute_input": "2024-01-02T14:52:00.199903Z",
     "iopub.status.busy": "2024-01-02T14:52:00.199406Z",
     "iopub.status.idle": "2024-01-02T14:52:00.308548Z",
     "shell.execute_reply": "2024-01-02T14:52:00.307391Z"
    },
    "papermill": {
     "duration": 0.127011,
     "end_time": "2024-01-02T14:52:00.311396",
     "exception": false,
     "start_time": "2024-01-02T14:52:00.184385",
     "status": "completed"
    },
    "tags": []
   },
   "outputs": [
    {
     "data": {
      "text/html": [
       "<div>\n",
       "<style scoped>\n",
       "    .dataframe tbody tr th:only-of-type {\n",
       "        vertical-align: middle;\n",
       "    }\n",
       "\n",
       "    .dataframe tbody tr th {\n",
       "        vertical-align: top;\n",
       "    }\n",
       "\n",
       "    .dataframe thead th {\n",
       "        text-align: right;\n",
       "    }\n",
       "</style>\n",
       "<table border=\"1\" class=\"dataframe\">\n",
       "  <thead>\n",
       "    <tr style=\"text-align: right;\">\n",
       "      <th></th>\n",
       "      <th>title</th>\n",
       "      <th>vote_count</th>\n",
       "      <th>vote_average</th>\n",
       "      <th>popularity</th>\n",
       "    </tr>\n",
       "    <tr>\n",
       "      <th>id</th>\n",
       "      <th></th>\n",
       "      <th></th>\n",
       "      <th></th>\n",
       "      <th></th>\n",
       "    </tr>\n",
       "  </thead>\n",
       "  <tbody>\n",
       "    <tr>\n",
       "      <th>0</th>\n",
       "      <td>NaN</td>\n",
       "      <td>NaN</td>\n",
       "      <td>NaN</td>\n",
       "      <td>Beware Of Frost Bites</td>\n",
       "    </tr>\n",
       "    <tr>\n",
       "      <th>85013</th>\n",
       "      <td>Hyper Sapien: People from Another Star</td>\n",
       "      <td>0.000</td>\n",
       "      <td>0.000</td>\n",
       "      <td>9e-06</td>\n",
       "    </tr>\n",
       "    <tr>\n",
       "      <th>96159</th>\n",
       "      <td>Chameli Ki Shaadi</td>\n",
       "      <td>0.000</td>\n",
       "      <td>0.000</td>\n",
       "      <td>9e-06</td>\n",
       "    </tr>\n",
       "    <tr>\n",
       "      <th>78</th>\n",
       "      <td>Blade Runner</td>\n",
       "      <td>3,833.000</td>\n",
       "      <td>7.900</td>\n",
       "      <td>96.272374</td>\n",
       "    </tr>\n",
       "    <tr>\n",
       "      <th>10567</th>\n",
       "      <td>Dinosaur</td>\n",
       "      <td>563.000</td>\n",
       "      <td>6.200</td>\n",
       "      <td>9.998415</td>\n",
       "    </tr>\n",
       "    <tr>\n",
       "      <th>25</th>\n",
       "      <td>Jarhead</td>\n",
       "      <td>776.000</td>\n",
       "      <td>6.600</td>\n",
       "      <td>9.997032</td>\n",
       "    </tr>\n",
       "    <tr>\n",
       "      <th>7511</th>\n",
       "      <td>The Last Kiss</td>\n",
       "      <td>125.000</td>\n",
       "      <td>5.900</td>\n",
       "      <td>9.996541</td>\n",
       "    </tr>\n",
       "    <tr>\n",
       "      <th>69668</th>\n",
       "      <td>Dream House</td>\n",
       "      <td>401.000</td>\n",
       "      <td>5.800</td>\n",
       "      <td>9.995617</td>\n",
       "    </tr>\n",
       "    <tr>\n",
       "      <th>10549</th>\n",
       "      <td>Hamlet</td>\n",
       "      <td>118.000</td>\n",
       "      <td>7.300</td>\n",
       "      <td>9.994088</td>\n",
       "    </tr>\n",
       "    <tr>\n",
       "      <th>2009</th>\n",
       "      <td>4 Months, 3 Weeks and 2 Days</td>\n",
       "      <td>158.000</td>\n",
       "      <td>7.400</td>\n",
       "      <td>9.990406</td>\n",
       "    </tr>\n",
       "    <tr>\n",
       "      <th>18070</th>\n",
       "      <td>Black Dawn</td>\n",
       "      <td>21.000</td>\n",
       "      <td>3.600</td>\n",
       "      <td>9.989719</td>\n",
       "    </tr>\n",
       "    <tr>\n",
       "      <th>246080</th>\n",
       "      <td>Black Sea</td>\n",
       "      <td>410.000</td>\n",
       "      <td>6.200</td>\n",
       "      <td>9.989679</td>\n",
       "    </tr>\n",
       "    <tr>\n",
       "      <th>9689</th>\n",
       "      <td>Hollywood Ending</td>\n",
       "      <td>114.000</td>\n",
       "      <td>6.400</td>\n",
       "      <td>9.987317</td>\n",
       "    </tr>\n",
       "    <tr>\n",
       "      <th>9967</th>\n",
       "      <td>Uncommon Valor</td>\n",
       "      <td>54.000</td>\n",
       "      <td>6.200</td>\n",
       "      <td>9.987072</td>\n",
       "    </tr>\n",
       "    <tr>\n",
       "      <th>10238</th>\n",
       "      <td>Cries and Whispers</td>\n",
       "      <td>118.000</td>\n",
       "      <td>7.800</td>\n",
       "      <td>9.983092</td>\n",
       "    </tr>\n",
       "  </tbody>\n",
       "</table>\n",
       "</div>"
      ],
      "text/plain": [
       "                                         title  vote_count  vote_average  \\\n",
       "id                                                                         \n",
       "0                                          NaN         NaN           NaN   \n",
       "85013   Hyper Sapien: People from Another Star       0.000         0.000   \n",
       "96159                        Chameli Ki Shaadi       0.000         0.000   \n",
       "78                                Blade Runner   3,833.000         7.900   \n",
       "10567                                 Dinosaur     563.000         6.200   \n",
       "25                                     Jarhead     776.000         6.600   \n",
       "7511                             The Last Kiss     125.000         5.900   \n",
       "69668                              Dream House     401.000         5.800   \n",
       "10549                                   Hamlet     118.000         7.300   \n",
       "2009              4 Months, 3 Weeks and 2 Days     158.000         7.400   \n",
       "18070                               Black Dawn      21.000         3.600   \n",
       "246080                               Black Sea     410.000         6.200   \n",
       "9689                          Hollywood Ending     114.000         6.400   \n",
       "9967                            Uncommon Valor      54.000         6.200   \n",
       "10238                       Cries and Whispers     118.000         7.800   \n",
       "\n",
       "                   popularity  \n",
       "id                             \n",
       "0       Beware Of Frost Bites  \n",
       "85013                   9e-06  \n",
       "96159                   9e-06  \n",
       "78                  96.272374  \n",
       "10567                9.998415  \n",
       "25                   9.997032  \n",
       "7511                 9.996541  \n",
       "69668                9.995617  \n",
       "10549                9.994088  \n",
       "2009                 9.990406  \n",
       "18070                9.989719  \n",
       "246080               9.989679  \n",
       "9689                 9.987317  \n",
       "9967                 9.987072  \n",
       "10238                9.983092  "
      ]
     },
     "execution_count": 21,
     "metadata": {},
     "output_type": "execute_result"
    }
   ],
   "source": [
    "movies_df = movies_df.sort_values('popularity', ascending=False)\n",
    "movies_df [['title', 'vote_count', 'vote_average', 'popularity']].head(15)"
   ]
  },
  {
   "cell_type": "code",
   "execution_count": 22,
   "id": "8291fbec",
   "metadata": {
    "execution": {
     "iopub.execute_input": "2024-01-02T14:52:00.340194Z",
     "iopub.status.busy": "2024-01-02T14:52:00.339711Z",
     "iopub.status.idle": "2024-01-02T14:52:00.351026Z",
     "shell.execute_reply": "2024-01-02T14:52:00.349525Z"
    },
    "papermill": {
     "duration": 0.02877,
     "end_time": "2024-01-02T14:52:00.353634",
     "exception": false,
     "start_time": "2024-01-02T14:52:00.324864",
     "status": "completed"
    },
    "tags": []
   },
   "outputs": [
    {
     "name": "stdout",
     "output_type": "stream",
     "text": [
      "C = 5.62, m = 434.0\n"
     ]
    }
   ],
   "source": [
    "C = movies_df['vote_average'].mean()\n",
    "m = movies_df['vote_count'].quantile(0.95)\n",
    "print(f'C = {round(C,2)}, m = {round(m,2)}')"
   ]
  },
  {
   "cell_type": "code",
   "execution_count": 23,
   "id": "781bf8f7",
   "metadata": {
    "execution": {
     "iopub.execute_input": "2024-01-02T14:52:00.383683Z",
     "iopub.status.busy": "2024-01-02T14:52:00.383134Z",
     "iopub.status.idle": "2024-01-02T14:52:00.972169Z",
     "shell.execute_reply": "2024-01-02T14:52:00.970843Z"
    },
    "papermill": {
     "duration": 0.608799,
     "end_time": "2024-01-02T14:52:00.976422",
     "exception": false,
     "start_time": "2024-01-02T14:52:00.367623",
     "status": "completed"
    },
    "tags": []
   },
   "outputs": [],
   "source": [
    "# Function that calculates imdb rating\n",
    "def weighted_rating(x, m=m, C=C):\n",
    "    v = x['vote_count']\n",
    "    R = x['vote_average']\n",
    "    # Calculation based on the IMDB formula\n",
    "    return ((R * v) + (C * m)) / (v + m)\n",
    "\n",
    "\n",
    "movies_df['imdb_rating'] = movies_df.apply(weighted_rating, axis=1)\n",
    "movies_df = movies_df.sort_index(axis=1)"
   ]
  },
  {
   "cell_type": "code",
   "execution_count": 24,
   "id": "8c2b13cd",
   "metadata": {
    "execution": {
     "iopub.execute_input": "2024-01-02T14:52:01.020481Z",
     "iopub.status.busy": "2024-01-02T14:52:01.019327Z",
     "iopub.status.idle": "2024-01-02T14:52:01.096171Z",
     "shell.execute_reply": "2024-01-02T14:52:01.094729Z"
    },
    "papermill": {
     "duration": 0.103663,
     "end_time": "2024-01-02T14:52:01.099997",
     "exception": false,
     "start_time": "2024-01-02T14:52:00.996334",
     "status": "completed"
    },
    "tags": []
   },
   "outputs": [
    {
     "data": {
      "text/html": [
       "<div>\n",
       "<style scoped>\n",
       "    .dataframe tbody tr th:only-of-type {\n",
       "        vertical-align: middle;\n",
       "    }\n",
       "\n",
       "    .dataframe tbody tr th {\n",
       "        vertical-align: top;\n",
       "    }\n",
       "\n",
       "    .dataframe thead th {\n",
       "        text-align: right;\n",
       "    }\n",
       "</style>\n",
       "<table border=\"1\" class=\"dataframe\">\n",
       "  <thead>\n",
       "    <tr style=\"text-align: right;\">\n",
       "      <th></th>\n",
       "      <th>title</th>\n",
       "      <th>vote_count</th>\n",
       "      <th>vote_average</th>\n",
       "      <th>imdb_rating</th>\n",
       "    </tr>\n",
       "    <tr>\n",
       "      <th>id</th>\n",
       "      <th></th>\n",
       "      <th></th>\n",
       "      <th></th>\n",
       "      <th></th>\n",
       "    </tr>\n",
       "  </thead>\n",
       "  <tbody>\n",
       "    <tr>\n",
       "      <th>278</th>\n",
       "      <td>The Shawshank Redemption</td>\n",
       "      <td>8,358.000</td>\n",
       "      <td>8.500</td>\n",
       "      <td>8.358</td>\n",
       "    </tr>\n",
       "    <tr>\n",
       "      <th>238</th>\n",
       "      <td>The Godfather</td>\n",
       "      <td>6,024.000</td>\n",
       "      <td>8.500</td>\n",
       "      <td>8.306</td>\n",
       "    </tr>\n",
       "    <tr>\n",
       "      <th>155</th>\n",
       "      <td>The Dark Knight</td>\n",
       "      <td>12,269.000</td>\n",
       "      <td>8.300</td>\n",
       "      <td>8.208</td>\n",
       "    </tr>\n",
       "    <tr>\n",
       "      <th>550</th>\n",
       "      <td>Fight Club</td>\n",
       "      <td>9,678.000</td>\n",
       "      <td>8.300</td>\n",
       "      <td>8.185</td>\n",
       "    </tr>\n",
       "    <tr>\n",
       "      <th>680</th>\n",
       "      <td>Pulp Fiction</td>\n",
       "      <td>8,670.000</td>\n",
       "      <td>8.300</td>\n",
       "      <td>8.172</td>\n",
       "    </tr>\n",
       "    <tr>\n",
       "      <th>13</th>\n",
       "      <td>Forrest Gump</td>\n",
       "      <td>8,147.000</td>\n",
       "      <td>8.200</td>\n",
       "      <td>8.069</td>\n",
       "    </tr>\n",
       "    <tr>\n",
       "      <th>424</th>\n",
       "      <td>Schindler's List</td>\n",
       "      <td>4,436.000</td>\n",
       "      <td>8.300</td>\n",
       "      <td>8.061</td>\n",
       "    </tr>\n",
       "    <tr>\n",
       "      <th>244786</th>\n",
       "      <td>Whiplash</td>\n",
       "      <td>4,376.000</td>\n",
       "      <td>8.300</td>\n",
       "      <td>8.058</td>\n",
       "    </tr>\n",
       "    <tr>\n",
       "      <th>129</th>\n",
       "      <td>Spirited Away</td>\n",
       "      <td>3,968.000</td>\n",
       "      <td>8.300</td>\n",
       "      <td>8.036</td>\n",
       "    </tr>\n",
       "    <tr>\n",
       "      <th>1891</th>\n",
       "      <td>The Empire Strikes Back</td>\n",
       "      <td>5,998.000</td>\n",
       "      <td>8.200</td>\n",
       "      <td>8.026</td>\n",
       "    </tr>\n",
       "    <tr>\n",
       "      <th>27205</th>\n",
       "      <td>Inception</td>\n",
       "      <td>14,075.000</td>\n",
       "      <td>8.100</td>\n",
       "      <td>8.026</td>\n",
       "    </tr>\n",
       "    <tr>\n",
       "      <th>637</th>\n",
       "      <td>Life Is Beautiful</td>\n",
       "      <td>3,643.000</td>\n",
       "      <td>8.300</td>\n",
       "      <td>8.015</td>\n",
       "    </tr>\n",
       "    <tr>\n",
       "      <th>77338</th>\n",
       "      <td>The Intouchables</td>\n",
       "      <td>5,410.000</td>\n",
       "      <td>8.200</td>\n",
       "      <td>8.008</td>\n",
       "    </tr>\n",
       "    <tr>\n",
       "      <th>157336</th>\n",
       "      <td>Interstellar</td>\n",
       "      <td>11,187.000</td>\n",
       "      <td>8.100</td>\n",
       "      <td>8.007</td>\n",
       "    </tr>\n",
       "    <tr>\n",
       "      <th>240</th>\n",
       "      <td>The Godfather: Part II</td>\n",
       "      <td>3,418.000</td>\n",
       "      <td>8.300</td>\n",
       "      <td>7.998</td>\n",
       "    </tr>\n",
       "    <tr>\n",
       "      <th>122</th>\n",
       "      <td>The Lord of the Rings: The Return of the King</td>\n",
       "      <td>8,226.000</td>\n",
       "      <td>8.100</td>\n",
       "      <td>7.976</td>\n",
       "    </tr>\n",
       "    <tr>\n",
       "      <th>101</th>\n",
       "      <td>Leon: The Professional</td>\n",
       "      <td>4,293.000</td>\n",
       "      <td>8.200</td>\n",
       "      <td>7.963</td>\n",
       "    </tr>\n",
       "    <tr>\n",
       "      <th>510</th>\n",
       "      <td>One Flew Over the Cuckoo's Nest</td>\n",
       "      <td>3,001.000</td>\n",
       "      <td>8.300</td>\n",
       "      <td>7.961</td>\n",
       "    </tr>\n",
       "    <tr>\n",
       "      <th>497</th>\n",
       "      <td>The Green Mile</td>\n",
       "      <td>4,166.000</td>\n",
       "      <td>8.200</td>\n",
       "      <td>7.956</td>\n",
       "    </tr>\n",
       "    <tr>\n",
       "      <th>11</th>\n",
       "      <td>Star Wars</td>\n",
       "      <td>6,778.000</td>\n",
       "      <td>8.100</td>\n",
       "      <td>7.951</td>\n",
       "    </tr>\n",
       "  </tbody>\n",
       "</table>\n",
       "</div>"
      ],
      "text/plain": [
       "                                                title  vote_count  \\\n",
       "id                                                                  \n",
       "278                          The Shawshank Redemption   8,358.000   \n",
       "238                                     The Godfather   6,024.000   \n",
       "155                                   The Dark Knight  12,269.000   \n",
       "550                                        Fight Club   9,678.000   \n",
       "680                                      Pulp Fiction   8,670.000   \n",
       "13                                       Forrest Gump   8,147.000   \n",
       "424                                  Schindler's List   4,436.000   \n",
       "244786                                       Whiplash   4,376.000   \n",
       "129                                     Spirited Away   3,968.000   \n",
       "1891                          The Empire Strikes Back   5,998.000   \n",
       "27205                                       Inception  14,075.000   \n",
       "637                                 Life Is Beautiful   3,643.000   \n",
       "77338                                The Intouchables   5,410.000   \n",
       "157336                                   Interstellar  11,187.000   \n",
       "240                            The Godfather: Part II   3,418.000   \n",
       "122     The Lord of the Rings: The Return of the King   8,226.000   \n",
       "101                            Leon: The Professional   4,293.000   \n",
       "510                   One Flew Over the Cuckoo's Nest   3,001.000   \n",
       "497                                    The Green Mile   4,166.000   \n",
       "11                                          Star Wars   6,778.000   \n",
       "\n",
       "        vote_average  imdb_rating  \n",
       "id                                 \n",
       "278            8.500        8.358  \n",
       "238            8.500        8.306  \n",
       "155            8.300        8.208  \n",
       "550            8.300        8.185  \n",
       "680            8.300        8.172  \n",
       "13             8.200        8.069  \n",
       "424            8.300        8.061  \n",
       "244786         8.300        8.058  \n",
       "129            8.300        8.036  \n",
       "1891           8.200        8.026  \n",
       "27205          8.100        8.026  \n",
       "637            8.300        8.015  \n",
       "77338          8.200        8.008  \n",
       "157336         8.100        8.007  \n",
       "240            8.300        7.998  \n",
       "122            8.100        7.976  \n",
       "101            8.200        7.963  \n",
       "510            8.300        7.961  \n",
       "497            8.200        7.956  \n",
       "11             8.100        7.951  "
      ]
     },
     "execution_count": 24,
     "metadata": {},
     "output_type": "execute_result"
    }
   ],
   "source": [
    "movies_df = movies_df.sort_values('imdb_rating', ascending=False)\n",
    "movies_df [['title', 'vote_count', 'vote_average', 'imdb_rating']].head(20)"
   ]
  },
  {
   "cell_type": "code",
   "execution_count": 25,
   "id": "07afdc23",
   "metadata": {
    "execution": {
     "iopub.execute_input": "2024-01-02T14:52:01.132255Z",
     "iopub.status.busy": "2024-01-02T14:52:01.131766Z",
     "iopub.status.idle": "2024-01-02T14:52:01.159761Z",
     "shell.execute_reply": "2024-01-02T14:52:01.156579Z"
    },
    "papermill": {
     "duration": 0.048278,
     "end_time": "2024-01-02T14:52:01.164026",
     "exception": false,
     "start_time": "2024-01-02T14:52:01.115748",
     "status": "completed"
    },
    "tags": []
   },
   "outputs": [],
   "source": [
    "movies_df['genres'] = movies_df['genres'] \\\n",
    "    .apply(lambda x: x[:3] if isinstance(x, list) else x)"
   ]
  },
  {
   "cell_type": "code",
   "execution_count": null,
   "id": "42bbef5c",
   "metadata": {
    "papermill": {
     "duration": 0.020742,
     "end_time": "2024-01-02T14:52:01.206538",
     "exception": false,
     "start_time": "2024-01-02T14:52:01.185796",
     "status": "completed"
    },
    "tags": []
   },
   "outputs": [],
   "source": []
  },
  {
   "cell_type": "code",
   "execution_count": 26,
   "id": "d7b7be7c",
   "metadata": {
    "execution": {
     "iopub.execute_input": "2024-01-02T14:52:01.240971Z",
     "iopub.status.busy": "2024-01-02T14:52:01.240032Z",
     "iopub.status.idle": "2024-01-02T14:52:01.659588Z",
     "shell.execute_reply": "2024-01-02T14:52:01.657689Z"
    },
    "papermill": {
     "duration": 0.438254,
     "end_time": "2024-01-02T14:52:01.662190",
     "exception": true,
     "start_time": "2024-01-02T14:52:01.223936",
     "status": "failed"
    },
    "tags": []
   },
   "outputs": [
    {
     "ename": "NameError",
     "evalue": "name 'gen_exp_df' is not defined",
     "output_type": "error",
     "traceback": [
      "\u001b[0;31m---------------------------------------------------------------------------\u001b[0m",
      "\u001b[0;31mNameError\u001b[0m                                 Traceback (most recent call last)",
      "Cell \u001b[0;32mIn[26], line 1\u001b[0m\n\u001b[0;32m----> 1\u001b[0m top \u001b[38;5;241m=\u001b[39m \u001b[43mgen_exp_df\u001b[49m\u001b[38;5;241m.\u001b[39msort_values(\u001b[38;5;124m'\u001b[39m\u001b[38;5;124mimdb_rating\u001b[39m\u001b[38;5;124m'\u001b[39m, ascending\u001b[38;5;241m=\u001b[39m\u001b[38;5;28;01mFalse\u001b[39;00m)\n\u001b[1;32m      4\u001b[0m unique_values_list \u001b[38;5;241m=\u001b[39m \u001b[38;5;28mlist\u001b[39m(top[\u001b[38;5;124m'\u001b[39m\u001b[38;5;124mgenres\u001b[39m\u001b[38;5;124m'\u001b[39m]\u001b[38;5;241m.\u001b[39munique())\n\u001b[1;32m      5\u001b[0m values_to_exclude \u001b[38;5;241m=\u001b[39m [\u001b[38;5;124m'\u001b[39m\u001b[38;5;124mTV Movie\u001b[39m\u001b[38;5;124m'\u001b[39m, \u001b[38;5;124m'\u001b[39m\u001b[38;5;124mForeign\u001b[39m\u001b[38;5;124m'\u001b[39m, np\u001b[38;5;241m.\u001b[39mnan ]\n",
      "\u001b[0;31mNameError\u001b[0m: name 'gen_exp_df' is not defined"
     ]
    }
   ],
   "source": [
    "top = gen_exp_df.sort_values('imdb_rating', ascending=False)\n",
    "\n",
    "\n",
    "unique_values_list = list(top['genres'].unique())\n",
    "values_to_exclude = ['TV Movie', 'Foreign', np.nan ]\n",
    "filtered_list = list(filter(lambda x: x not in values_to_exclude, unique_values_list))\n",
    "\n",
    "colors = sns.color_palette('colorblind', len(filtered_list))\n",
    "\n",
    "plt.figure(figsize=(15,12))\n",
    "for i in enumerate(filtered_list):\n",
    "    plt.subplot(6,3, i[0]+1)\n",
    "    top_movies_by_genre = top[top['genres'] == i[1]].head(5)\n",
    "    plot = sns.barplot(x='imdb_rating', y='title', data=top_movies_by_genre, color=colors[i[0]])\n",
    "\n",
    "    plt.title(i[1], fontsize=8) \n",
    "    plt.xlabel('imdb_rating', fontsize=6)\n",
    "    plt.ylabel('')\n",
    "plt.subplots_adjust(hspace=1.2, wspace=1)"
   ]
  },
  {
   "cell_type": "code",
   "execution_count": null,
   "id": "c64e3475",
   "metadata": {
    "execution": {
     "iopub.status.busy": "2024-01-02T14:40:34.335379Z",
     "iopub.status.idle": "2024-01-02T14:40:34.336347Z",
     "shell.execute_reply": "2024-01-02T14:40:34.336117Z",
     "shell.execute_reply.started": "2024-01-02T14:40:34.336079Z"
    },
    "papermill": {
     "duration": null,
     "end_time": null,
     "exception": null,
     "start_time": null,
     "status": "pending"
    },
    "tags": []
   },
   "outputs": [],
   "source": [
    "countries = movies_df.explode('production_countries')\n",
    "q = countries['production_countries'].value_counts().head(30)\n",
    "\n",
    "\n",
    "plt.figure(figsize= (20, 5))\n",
    "plt.subplot(1,2,1)\n",
    "plot = sns.barplot(x=q.index, y=q, data=countries)\n",
    "plot.set_xticklabels(plot.get_xticklabels(), fontsize=8, rotation=90, horizontalalignment='right')\n",
    "plt.ylabel('numbers of movies', fontsize=8)\n",
    "\n",
    "plt.subplot(1,2,2)\n",
    "\n",
    "countries = countries.query('production_countries != \"United States of America\"')\n",
    "q = countries['production_countries'].value_counts().head(30)\n",
    "\n",
    "plot = sns.barplot(x=q.index, y=q, data=countries)\n",
    "plot.set_xticklabels(plot.get_xticklabels(), fontsize=8, rotation=90, horizontalalignment='right')\n",
    "plt.ylabel('numbers of movies', fontsize=8)\n",
    "\n",
    "plt.suptitle('Number of movies by production country', fontsize=16)"
   ]
  },
  {
   "cell_type": "code",
   "execution_count": null,
   "id": "965d72c1",
   "metadata": {
    "execution": {
     "iopub.execute_input": "2024-01-02T14:40:34.707492Z",
     "iopub.status.busy": "2024-01-02T14:40:34.706705Z",
     "iopub.status.idle": "2024-01-02T14:40:34.791018Z",
     "shell.execute_reply": "2024-01-02T14:40:34.789848Z",
     "shell.execute_reply.started": "2024-01-02T14:40:34.707443Z"
    },
    "papermill": {
     "duration": null,
     "end_time": null,
     "exception": null,
     "start_time": null,
     "status": "pending"
    },
    "tags": []
   },
   "outputs": [],
   "source": [
    "# Which film genres are the most popular in Poland? \n",
    "poland_genre = countries.explode('genres')\n",
    "poland_genre = poland_genre[poland_genre['production_countries'] == 'Poland']\n",
    "poland_genre['genres'].value_counts().head(5)"
   ]
  },
  {
   "cell_type": "code",
   "execution_count": null,
   "id": "3cead906",
   "metadata": {
    "execution": {
     "iopub.execute_input": "2024-01-02T14:41:26.617496Z",
     "iopub.status.busy": "2024-01-02T14:41:26.617064Z",
     "iopub.status.idle": "2024-01-02T14:41:26.625807Z",
     "shell.execute_reply": "2024-01-02T14:41:26.624292Z",
     "shell.execute_reply.started": "2024-01-02T14:41:26.617464Z"
    },
    "papermill": {
     "duration": null,
     "end_time": null,
     "exception": null,
     "start_time": null,
     "status": "pending"
    },
    "tags": []
   },
   "outputs": [],
   "source": [
    "movies_df.columns"
   ]
  },
  {
   "cell_type": "code",
   "execution_count": null,
   "id": "62f6aaf0",
   "metadata": {
    "execution": {
     "iopub.execute_input": "2024-01-02T14:43:36.794261Z",
     "iopub.status.busy": "2024-01-02T14:43:36.793735Z",
     "iopub.status.idle": "2024-01-02T14:43:36.884072Z",
     "shell.execute_reply": "2024-01-02T14:43:36.882897Z",
     "shell.execute_reply.started": "2024-01-02T14:43:36.794219Z"
    },
    "papermill": {
     "duration": null,
     "end_time": null,
     "exception": null,
     "start_time": null,
     "status": "pending"
    },
    "tags": []
   },
   "outputs": [],
   "source": [
    "cleaned_movies_df = movies_df.copy()\n",
    "filt = (cleaned_movies_df['vote_average'] == 0) & (cleaned_movies_df['vote_count'] == 0)\n",
    "cleaned_movies_df = cleaned_movies_df[~filt]"
   ]
  },
  {
   "cell_type": "code",
   "execution_count": null,
   "id": "651bc0c2",
   "metadata": {
    "execution": {
     "iopub.execute_input": "2024-01-02T14:43:46.689677Z",
     "iopub.status.busy": "2024-01-02T14:43:46.689252Z",
     "iopub.status.idle": "2024-01-02T14:43:46.729608Z",
     "shell.execute_reply": "2024-01-02T14:43:46.728135Z",
     "shell.execute_reply.started": "2024-01-02T14:43:46.689647Z"
    },
    "papermill": {
     "duration": null,
     "end_time": null,
     "exception": null,
     "start_time": null,
     "status": "pending"
    },
    "tags": []
   },
   "outputs": [],
   "source": [
    "filt = (cleaned_movies_df['release_date'].isna())\n",
    "cleaned_movies_df = cleaned_movies_df[~filt]"
   ]
  },
  {
   "cell_type": "code",
   "execution_count": null,
   "id": "0599332d",
   "metadata": {
    "execution": {
     "iopub.execute_input": "2024-01-02T14:44:14.870977Z",
     "iopub.status.busy": "2024-01-02T14:44:14.870252Z",
     "iopub.status.idle": "2024-01-02T14:44:14.909184Z",
     "shell.execute_reply": "2024-01-02T14:44:14.907898Z",
     "shell.execute_reply.started": "2024-01-02T14:44:14.870933Z"
    },
    "papermill": {
     "duration": null,
     "end_time": null,
     "exception": null,
     "start_time": null,
     "status": "pending"
    },
    "tags": []
   },
   "outputs": [],
   "source": [
    "nan_variable = ['production_companies', 'production_countries', 'genres',  'original_language']\n",
    "for i in nan_variable:\n",
    "    cleaned_movies_df[i] = cleaned_movies_df[i].fillna('')"
   ]
  },
  {
   "cell_type": "code",
   "execution_count": null,
   "id": "5cce345f",
   "metadata": {
    "execution": {
     "iopub.execute_input": "2024-01-02T14:44:27.695184Z",
     "iopub.status.busy": "2024-01-02T14:44:27.694750Z",
     "iopub.status.idle": "2024-01-02T14:44:28.124742Z",
     "shell.execute_reply": "2024-01-02T14:44:28.123674Z",
     "shell.execute_reply.started": "2024-01-02T14:44:27.695149Z"
    },
    "papermill": {
     "duration": null,
     "end_time": null,
     "exception": null,
     "start_time": null,
     "status": "pending"
    },
    "tags": []
   },
   "outputs": [],
   "source": [
    "# Runtime with outliars\n",
    "q = cleaned_movies_df.dropna(subset=['runtime'])\n",
    "plt.figure(figsize=(12, 4))\n",
    "sns.histplot(data=q, x='runtime', color='#008080', alpha=0.6, label='runtime minutes', bins=30 )\n",
    "\n",
    "median_runtime = cleaned_movies_df['runtime'].median()\n",
    "cleaned_movies_df['runtime'] = cleaned_movies_df['runtime'].fillna(median_runtime)"
   ]
  },
  {
   "cell_type": "code",
   "execution_count": null,
   "id": "98682591",
   "metadata": {
    "execution": {
     "iopub.execute_input": "2024-01-02T14:46:03.868464Z",
     "iopub.status.busy": "2024-01-02T14:46:03.867994Z",
     "iopub.status.idle": "2024-01-02T14:46:03.875955Z",
     "shell.execute_reply": "2024-01-02T14:46:03.874583Z",
     "shell.execute_reply.started": "2024-01-02T14:46:03.868427Z"
    },
    "papermill": {
     "duration": null,
     "end_time": null,
     "exception": null,
     "start_time": null,
     "status": "pending"
    },
    "tags": []
   },
   "outputs": [],
   "source": [
    "def remove_outliers_iqr(dataframe, column_name):\n",
    "    Q1 = dataframe[column_name].quantile(0.25)\n",
    "    Q3 = dataframe[column_name].quantile(0.75)\n",
    "    IQR = Q3 - Q1\n",
    "    lower_bound = Q1 - 1.5 * IQR\n",
    "    upper_bound = Q3 + 1.5 * IQR\n",
    "    filtered_data = dataframe[(dataframe[column_name] >= lower_bound) & (dataframe[column_name] <= upper_bound)]\n",
    "    return filtered_data"
   ]
  },
  {
   "cell_type": "code",
   "execution_count": null,
   "id": "51f444a7",
   "metadata": {
    "execution": {
     "iopub.execute_input": "2024-01-02T14:46:18.452349Z",
     "iopub.status.busy": "2024-01-02T14:46:18.451895Z",
     "iopub.status.idle": "2024-01-02T14:46:19.051701Z",
     "shell.execute_reply": "2024-01-02T14:46:19.050575Z",
     "shell.execute_reply.started": "2024-01-02T14:46:18.452311Z"
    },
    "papermill": {
     "duration": null,
     "end_time": null,
     "exception": null,
     "start_time": null,
     "status": "pending"
    },
    "tags": []
   },
   "outputs": [],
   "source": [
    "vote_cleaned = remove_outliers_iqr(cleaned_movies_df, 'vote_count')\n",
    "\n",
    "plt.figure(figsize= (15, 3))\n",
    "plt.subplot(1,2,1)\n",
    "sns.histplot(data=vote_cleaned, x='vote_count', color=\"#4361EE\", label='vote_count', bins=30)\n",
    "\n",
    "plt.subplot(1,2,2)\n",
    "sns.boxplot(data=vote_cleaned, x='vote_count',color=\"#4361EE\")\n",
    "\n",
    "plt.suptitle('vote_count hist and boxplot', fontsize=16)"
   ]
  },
  {
   "cell_type": "code",
   "execution_count": null,
   "id": "1d262581",
   "metadata": {
    "execution": {
     "iopub.execute_input": "2024-01-02T14:46:31.960571Z",
     "iopub.status.busy": "2024-01-02T14:46:31.960098Z",
     "iopub.status.idle": "2024-01-02T14:46:32.614476Z",
     "shell.execute_reply": "2024-01-02T14:46:32.613458Z",
     "shell.execute_reply.started": "2024-01-02T14:46:31.960535Z"
    },
    "papermill": {
     "duration": null,
     "end_time": null,
     "exception": null,
     "start_time": null,
     "status": "pending"
    },
    "tags": []
   },
   "outputs": [],
   "source": [
    "vote_avg_clean = remove_outliers_iqr(cleaned_movies_df, 'vote_average')\n",
    "\n",
    "plt.figure(figsize= (15, 3))\n",
    "plt.subplot(1,2,1)\n",
    "sns.histplot(data=vote_avg_clean, x='vote_average', color=\"#4CC9F0\", label='vote_average', bins=30)\n",
    "\n",
    "plt.subplot(1,2,2)\n",
    "vote_avg_clean = cleaned_movies_df.copy()\n",
    "sns.boxplot(data=vote_avg_clean, x='vote_average',color=\"#4CC9F0\")\n",
    "plt.suptitle('vote_average hist and boxplot', fontsize=16)"
   ]
  },
  {
   "cell_type": "code",
   "execution_count": null,
   "id": "55a214b7",
   "metadata": {
    "execution": {
     "iopub.execute_input": "2024-01-02T14:46:45.769192Z",
     "iopub.status.busy": "2024-01-02T14:46:45.768766Z",
     "iopub.status.idle": "2024-01-02T14:46:46.377572Z",
     "shell.execute_reply": "2024-01-02T14:46:46.376207Z",
     "shell.execute_reply.started": "2024-01-02T14:46:45.769157Z"
    },
    "papermill": {
     "duration": null,
     "end_time": null,
     "exception": null,
     "start_time": null,
     "status": "pending"
    },
    "tags": []
   },
   "outputs": [],
   "source": [
    "imdb_cleaned = remove_outliers_iqr(cleaned_movies_df, 'imdb_rating')\n",
    "\n",
    "plt.figure(figsize= (15, 3))\n",
    "plt.subplot(1,2,1)\n",
    "sns.histplot(data=imdb_cleaned, x='imdb_rating', color=\"#CC99FF\", label='vote_average', bins=10)\n",
    "\n",
    "plt.subplot(1,2,2)\n",
    "sns.boxplot(data=imdb_cleaned, x='imdb_rating',color=\"#CC99FF\")\n",
    "plt.suptitle('imdb_rating hist and boxplot', fontsize=16)"
   ]
  },
  {
   "cell_type": "code",
   "execution_count": null,
   "id": "3babc4b5",
   "metadata": {
    "execution": {
     "iopub.execute_input": "2024-01-02T14:50:00.002611Z",
     "iopub.status.busy": "2024-01-02T14:50:00.002136Z",
     "iopub.status.idle": "2024-01-02T14:50:00.165609Z",
     "shell.execute_reply": "2024-01-02T14:50:00.163890Z",
     "shell.execute_reply.started": "2024-01-02T14:50:00.002576Z"
    },
    "papermill": {
     "duration": null,
     "end_time": null,
     "exception": null,
     "start_time": null,
     "status": "pending"
    },
    "tags": []
   },
   "outputs": [],
   "source": []
  },
  {
   "cell_type": "code",
   "execution_count": null,
   "id": "77dae6f3",
   "metadata": {
    "papermill": {
     "duration": null,
     "end_time": null,
     "exception": null,
     "start_time": null,
     "status": "pending"
    },
    "tags": []
   },
   "outputs": [],
   "source": []
  }
 ],
 "metadata": {
  "kaggle": {
   "accelerator": "none",
   "dataSources": [
    {
     "datasetId": 3405,
     "sourceId": 6663,
     "sourceType": "datasetVersion"
    }
   ],
   "dockerImageVersionId": 30626,
   "isGpuEnabled": false,
   "isInternetEnabled": true,
   "language": "python",
   "sourceType": "notebook"
  },
  "kernelspec": {
   "display_name": "Python 3",
   "language": "python",
   "name": "python3"
  },
  "language_info": {
   "codemirror_mode": {
    "name": "ipython",
    "version": 3
   },
   "file_extension": ".py",
   "mimetype": "text/x-python",
   "name": "python",
   "nbconvert_exporter": "python",
   "pygments_lexer": "ipython3",
   "version": "3.10.12"
  },
  "papermill": {
   "default_parameters": {},
   "duration": 63.524578,
   "end_time": "2024-01-02T14:52:03.009885",
   "environment_variables": {},
   "exception": true,
   "input_path": "__notebook__.ipynb",
   "output_path": "__notebook__.ipynb",
   "parameters": {},
   "start_time": "2024-01-02T14:50:59.485307",
   "version": "2.4.0"
  }
 },
 "nbformat": 4,
 "nbformat_minor": 5
}
